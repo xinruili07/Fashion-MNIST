{
  "nbformat": 4,
  "nbformat_minor": 0,
  "metadata": {
    "colab": {
      "name": "Fashion-MNIST",
      "provenance": [],
      "collapsed_sections": [],
      "include_colab_link": true
    },
    "kernelspec": {
      "name": "python3",
      "display_name": "Python 3"
    },
    "accelerator": "GPU"
  },
  "cells": [
    {
      "cell_type": "markdown",
      "metadata": {
        "id": "view-in-github",
        "colab_type": "text"
      },
      "source": [
        "<a href=\"https://colab.research.google.com/github/xinruili07/Fashion-MNIST/blob/master/Fashion_MNIST_CNN.ipynb\" target=\"_parent\"><img src=\"https://colab.research.google.com/assets/colab-badge.svg\" alt=\"Open In Colab\"/></a>"
      ]
    },
    {
      "cell_type": "code",
      "metadata": {
        "id": "zBeSqXMFYdoy",
        "colab_type": "code",
        "outputId": "6368c0e4-5aad-4d0c-9f2f-06c15506c606",
        "colab": {
          "base_uri": "https://localhost:8080/",
          "height": 493
        }
      },
      "source": [
        "import numpy as np\n",
        "import json\n",
        "from getpass import getpass\n",
        "\n",
        "!pip install -q kaggle\n",
        "!mkdir /content/.kaggle\n",
        "!mkdir ~/.kaggle\n",
        "\n",
        "username = getpass('Enter the username: ')\n",
        "auth_key = getpass('Enter the authentification key: ')\n",
        "token = {\"username\": username,\"key\": auth_key}\n",
        "with open(\"/content/.kaggle/kaggle.json\", \"w\") as file:\n",
        "    json.dump(token, file)\n",
        "!chmod 600 /content/.kaggle/kaggle.json\n",
        "!cp /content/.kaggle/kaggle.json ~/.kaggle/kaggle.json\n",
        "!kaggle config set -n path -v{/content}\n",
        "!kaggle competitions download -c mais202-fall2019\n",
        "!apt install unzip\n",
        "\n",
        "!unzip /content/{/content}/competitions/mais202-fall2019/test_images.npy.zip -d test_images\n",
        "!unzip /content/{/content}/competitions/mais202-fall2019/train_images.npy.zip -d train_images"
      ],
      "execution_count": 1,
      "outputs": [
        {
          "output_type": "stream",
          "text": [
            "Enter the username: ··········\n",
            "Enter the authentification key: ··········\n",
            "- path is now set to: {/content}\n",
            "Warning: Looks like you're using an outdated API Version, please consider updating (server 1.5.6 / client 1.5.4)\n",
            "Downloading train_labels.csv to {/content}/competitions/mais202-fall2019\n",
            "  0% 0.00/429k [00:00<?, ?B/s]\n",
            "100% 429k/429k [00:00<00:00, 64.7MB/s]\n",
            "Downloading train_images.npy.zip to {/content}/competitions/mais202-fall2019\n",
            " 95% 49.0M/51.7M [00:02<00:00, 18.7MB/s]\n",
            "100% 51.7M/51.7M [00:02<00:00, 22.4MB/s]\n",
            "Downloading sample_submission.csv to {/content}/competitions/mais202-fall2019\n",
            "  0% 0.00/165k [00:00<?, ?B/s]\n",
            "100% 165k/165k [00:00<00:00, 52.7MB/s]\n",
            "Downloading test_images.npy.zip to {/content}/competitions/mais202-fall2019\n",
            " 43% 9.00M/20.7M [00:00<00:00, 15.8MB/s]\n",
            "100% 20.7M/20.7M [00:00<00:00, 32.6MB/s]\n",
            "Downloading label_int_to_str_mapping.csv to {/content}/competitions/mais202-fall2019\n",
            "  0% 0.00/127 [00:00<?, ?B/s]\n",
            "100% 127/127 [00:00<00:00, 125kB/s]\n",
            "Reading package lists... Done\n",
            "Building dependency tree       \n",
            "Reading state information... Done\n",
            "unzip is already the newest version (6.0-21ubuntu1).\n",
            "0 upgraded, 0 newly installed, 0 to remove and 28 not upgraded.\n",
            "Archive:  /content/{/content}/competitions/mais202-fall2019/test_images.npy.zip\n",
            "  inflating: test_images/test_images.npy  \n",
            "Archive:  /content/{/content}/competitions/mais202-fall2019/train_images.npy.zip\n",
            "  inflating: train_images/train_images.npy  \n"
          ],
          "name": "stdout"
        }
      ]
    },
    {
      "cell_type": "code",
      "metadata": {
        "id": "pQOeZAcbO6FW",
        "colab_type": "code",
        "outputId": "9d87e2d3-d203-4f3e-f7f4-87aa51a285f8",
        "colab": {
          "base_uri": "https://localhost:8080/",
          "height": 80
        }
      },
      "source": [
        "#vanilla CNN\n",
        "#from keras.preprocessing.image import ImageDataGenerator\n",
        "import pandas as pd\n",
        "from keras import backend as K"
      ],
      "execution_count": 0,
      "outputs": [
        {
          "output_type": "stream",
          "text": [
            "Using TensorFlow backend.\n"
          ],
          "name": "stderr"
        },
        {
          "output_type": "display_data",
          "data": {
            "text/html": [
              "<p style=\"color: red;\">\n",
              "The default version of TensorFlow in Colab will soon switch to TensorFlow 2.x.<br>\n",
              "We recommend you <a href=\"https://www.tensorflow.org/guide/migrate\" target=\"_blank\">upgrade</a> now \n",
              "or ensure your notebook will continue to use TensorFlow 1.x via the <code>%tensorflow_version 1.x</code> magic:\n",
              "<a href=\"https://colab.research.google.com/notebooks/tensorflow_version.ipynb\" target=\"_blank\">more info</a>.</p>\n"
            ],
            "text/plain": [
              "<IPython.core.display.HTML object>"
            ]
          },
          "metadata": {
            "tags": []
          }
        }
      ]
    },
    {
      "cell_type": "code",
      "metadata": {
        "id": "FkRVWzQIQh-4",
        "colab_type": "code",
        "outputId": "f6151bd5-d43e-4d9d-a1a6-e0c9448f698f",
        "colab": {
          "base_uri": "https://localhost:8080/",
          "height": 34
        }
      },
      "source": [
        "from sklearn.model_selection import train_test_split\n",
        "X_train = np.load('/content/train_images/train_images.npy')\n",
        "\n",
        "X_train = X_train.astype(\"float32\") / 255.0\n",
        "X_train = X_train.reshape((X_train.shape[0], 28, 28, 1))\n",
        "print(X_train.shape)"
      ],
      "execution_count": 0,
      "outputs": [
        {
          "output_type": "stream",
          "text": [
            "(50000, 28, 28, 1)\n"
          ],
          "name": "stdout"
        }
      ]
    },
    {
      "cell_type": "code",
      "metadata": {
        "id": "54A5MuPmR1Ob",
        "colab_type": "code",
        "outputId": "f8cb3e42-a349-454c-ce6a-96816c599c35",
        "colab": {
          "base_uri": "https://localhost:8080/",
          "height": 34
        }
      },
      "source": [
        "from keras.utils import to_categorical\n",
        "\n",
        "data = pd.read_csv(\"/content/{/content}/competitions/mais202-fall2019/train_labels.csv\", header=0)\n",
        "y_train = list(data.label)\n",
        "y_train = to_categorical(y_train)\n",
        "print(len(y_train))"
      ],
      "execution_count": 0,
      "outputs": [
        {
          "output_type": "stream",
          "text": [
            "50000\n"
          ],
          "name": "stdout"
        }
      ]
    },
    {
      "cell_type": "code",
      "metadata": {
        "id": "GuZEeAlwYEDf",
        "colab_type": "code",
        "colab": {}
      },
      "source": [
        "from sklearn.utils import shuffle\n",
        "\n",
        "X_train, y_train = shuffle(X_train, y_train)\n",
        "X_train, X_valid, y_train, y_valid = train_test_split(X_train, y_train, test_size=0.20)"
      ],
      "execution_count": 0,
      "outputs": []
    },
    {
      "cell_type": "code",
      "metadata": {
        "id": "S0T3lvWuUSUz",
        "colab_type": "code",
        "colab": {}
      },
      "source": [
        "from keras.models import Sequential\n",
        "from keras.layers import Dense, Dropout, Activation, Flatten\n",
        "from keras.layers import Conv2D, MaxPooling2D\n",
        "from tensorflow.keras.callbacks import TensorBoard\n",
        "import time\n",
        "\n",
        "NAME = \"kaggle-competition-{}\".format(int(time.time()))\n",
        "\n",
        "# tensorboard --logdir='DIRNAME' to view\n",
        "tensorboard = TensorBoard(log_dir='logs\\{}'.format(NAME))"
      ],
      "execution_count": 0,
      "outputs": []
    },
    {
      "cell_type": "code",
      "metadata": {
        "id": "ZCwQVfNZZcC_",
        "colab_type": "code",
        "outputId": "aa6bc207-4cdb-42c2-8145-036bd3e08524",
        "colab": {
          "base_uri": "https://localhost:8080/",
          "height": 51
        }
      },
      "source": [
        "from sklearn.model_selection import train_test_split\n",
        "print(len(X_train))\n",
        "print(len(X_valid))"
      ],
      "execution_count": 0,
      "outputs": [
        {
          "output_type": "stream",
          "text": [
            "40000\n",
            "10000\n"
          ],
          "name": "stdout"
        }
      ]
    },
    {
      "cell_type": "code",
      "metadata": {
        "id": "CjlLOWb-SAJC",
        "colab_type": "code",
        "outputId": "592a3d8b-34e2-4cff-9f97-a320cd7b41f2",
        "colab": {
          "base_uri": "https://localhost:8080/",
          "height": 836
        }
      },
      "source": [
        "model = Sequential()\n",
        "\n",
        "model.add(Conv2D(32, (5, 5), padding=\"same\", input_shape=[28, 28, 1], kernel_initializer='he_normal'))\n",
        "model.add(Activation('relu'))\n",
        "model.add(MaxPooling2D((2,2)))\n",
        "model.add(Dropout(0.2))\n",
        "\n",
        "model.add(Conv2D(64, (5, 5), padding=\"same\"))\n",
        "model.add(MaxPooling2D((2,2)))\n",
        "model.add(Activation('relu'))\n",
        "model.add(Dropout(0.2))\n",
        "\n",
        "model.add(Flatten())\n",
        "model.add(Dense(256, activation='relu'))\n",
        "model.add(Dropout(0.5))\n",
        "model.add(Dense(10, activation='softmax'))\n",
        "\n",
        "model.summary()"
      ],
      "execution_count": 0,
      "outputs": [
        {
          "output_type": "stream",
          "text": [
            "WARNING:tensorflow:From /usr/local/lib/python3.6/dist-packages/keras/backend/tensorflow_backend.py:66: The name tf.get_default_graph is deprecated. Please use tf.compat.v1.get_default_graph instead.\n",
            "\n",
            "WARNING:tensorflow:From /usr/local/lib/python3.6/dist-packages/keras/backend/tensorflow_backend.py:541: The name tf.placeholder is deprecated. Please use tf.compat.v1.placeholder instead.\n",
            "\n",
            "WARNING:tensorflow:From /usr/local/lib/python3.6/dist-packages/keras/backend/tensorflow_backend.py:4479: The name tf.truncated_normal is deprecated. Please use tf.random.truncated_normal instead.\n",
            "\n",
            "WARNING:tensorflow:From /usr/local/lib/python3.6/dist-packages/keras/backend/tensorflow_backend.py:4267: The name tf.nn.max_pool is deprecated. Please use tf.nn.max_pool2d instead.\n",
            "\n",
            "WARNING:tensorflow:From /usr/local/lib/python3.6/dist-packages/keras/backend/tensorflow_backend.py:148: The name tf.placeholder_with_default is deprecated. Please use tf.compat.v1.placeholder_with_default instead.\n",
            "\n",
            "WARNING:tensorflow:From /usr/local/lib/python3.6/dist-packages/keras/backend/tensorflow_backend.py:3733: calling dropout (from tensorflow.python.ops.nn_ops) with keep_prob is deprecated and will be removed in a future version.\n",
            "Instructions for updating:\n",
            "Please use `rate` instead of `keep_prob`. Rate should be set to `rate = 1 - keep_prob`.\n",
            "WARNING:tensorflow:From /usr/local/lib/python3.6/dist-packages/keras/backend/tensorflow_backend.py:4432: The name tf.random_uniform is deprecated. Please use tf.random.uniform instead.\n",
            "\n",
            "Model: \"sequential_1\"\n",
            "_________________________________________________________________\n",
            "Layer (type)                 Output Shape              Param #   \n",
            "=================================================================\n",
            "conv2d_1 (Conv2D)            (None, 28, 28, 32)        832       \n",
            "_________________________________________________________________\n",
            "activation_1 (Activation)    (None, 28, 28, 32)        0         \n",
            "_________________________________________________________________\n",
            "max_pooling2d_1 (MaxPooling2 (None, 14, 14, 32)        0         \n",
            "_________________________________________________________________\n",
            "dropout_1 (Dropout)          (None, 14, 14, 32)        0         \n",
            "_________________________________________________________________\n",
            "conv2d_2 (Conv2D)            (None, 14, 14, 64)        51264     \n",
            "_________________________________________________________________\n",
            "max_pooling2d_2 (MaxPooling2 (None, 7, 7, 64)          0         \n",
            "_________________________________________________________________\n",
            "activation_2 (Activation)    (None, 7, 7, 64)          0         \n",
            "_________________________________________________________________\n",
            "dropout_2 (Dropout)          (None, 7, 7, 64)          0         \n",
            "_________________________________________________________________\n",
            "flatten_1 (Flatten)          (None, 3136)              0         \n",
            "_________________________________________________________________\n",
            "dense_1 (Dense)              (None, 256)               803072    \n",
            "_________________________________________________________________\n",
            "dropout_3 (Dropout)          (None, 256)               0         \n",
            "_________________________________________________________________\n",
            "dense_2 (Dense)              (None, 10)                2570      \n",
            "=================================================================\n",
            "Total params: 857,738\n",
            "Trainable params: 857,738\n",
            "Non-trainable params: 0\n",
            "_________________________________________________________________\n"
          ],
          "name": "stdout"
        }
      ]
    },
    {
      "cell_type": "code",
      "metadata": {
        "id": "_DjGg31vUQU5",
        "colab_type": "code",
        "outputId": "9dcb1092-3cb6-44a5-c34b-e83c0a404a22",
        "colab": {
          "base_uri": "https://localhost:8080/",
          "height": 105
        }
      },
      "source": [
        "import keras\n",
        "model.compile(keras.optimizers.Adam(5e-4), loss='categorical_crossentropy', metrics=['accuracy'])"
      ],
      "execution_count": 0,
      "outputs": [
        {
          "output_type": "stream",
          "text": [
            "WARNING:tensorflow:From /usr/local/lib/python3.6/dist-packages/keras/optimizers.py:793: The name tf.train.Optimizer is deprecated. Please use tf.compat.v1.train.Optimizer instead.\n",
            "\n",
            "WARNING:tensorflow:From /usr/local/lib/python3.6/dist-packages/keras/backend/tensorflow_backend.py:3576: The name tf.log is deprecated. Please use tf.math.log instead.\n",
            "\n"
          ],
          "name": "stdout"
        }
      ]
    },
    {
      "cell_type": "code",
      "metadata": {
        "id": "a8bZmT_cUhrV",
        "colab_type": "code",
        "outputId": "7935b0f0-71b2-47df-965a-b18fc176be45",
        "colab": {
          "base_uri": "https://localhost:8080/",
          "height": 1000
        }
      },
      "source": [
        "history = model.fit(X_train, y_train, epochs = 25, shuffle=True, validation_data=(X_valid, y_valid), verbose=1, batch_size=64)"
      ],
      "execution_count": 0,
      "outputs": [
        {
          "output_type": "stream",
          "text": [
            "WARNING:tensorflow:From /usr/local/lib/python3.6/dist-packages/tensorflow_core/python/ops/math_grad.py:1424: where (from tensorflow.python.ops.array_ops) is deprecated and will be removed in a future version.\n",
            "Instructions for updating:\n",
            "Use tf.where in 2.0, which has the same broadcast rule as np.where\n",
            "WARNING:tensorflow:From /usr/local/lib/python3.6/dist-packages/keras/backend/tensorflow_backend.py:1033: The name tf.assign_add is deprecated. Please use tf.compat.v1.assign_add instead.\n",
            "\n",
            "WARNING:tensorflow:From /usr/local/lib/python3.6/dist-packages/keras/backend/tensorflow_backend.py:1020: The name tf.assign is deprecated. Please use tf.compat.v1.assign instead.\n",
            "\n",
            "WARNING:tensorflow:From /usr/local/lib/python3.6/dist-packages/keras/backend/tensorflow_backend.py:3005: The name tf.Session is deprecated. Please use tf.compat.v1.Session instead.\n",
            "\n",
            "Train on 40000 samples, validate on 10000 samples\n",
            "Epoch 1/25\n",
            "WARNING:tensorflow:From /usr/local/lib/python3.6/dist-packages/keras/backend/tensorflow_backend.py:190: The name tf.get_default_session is deprecated. Please use tf.compat.v1.get_default_session instead.\n",
            "\n",
            "WARNING:tensorflow:From /usr/local/lib/python3.6/dist-packages/keras/backend/tensorflow_backend.py:197: The name tf.ConfigProto is deprecated. Please use tf.compat.v1.ConfigProto instead.\n",
            "\n",
            "WARNING:tensorflow:From /usr/local/lib/python3.6/dist-packages/keras/backend/tensorflow_backend.py:207: The name tf.global_variables is deprecated. Please use tf.compat.v1.global_variables instead.\n",
            "\n",
            "WARNING:tensorflow:From /usr/local/lib/python3.6/dist-packages/keras/backend/tensorflow_backend.py:216: The name tf.is_variable_initialized is deprecated. Please use tf.compat.v1.is_variable_initialized instead.\n",
            "\n",
            "WARNING:tensorflow:From /usr/local/lib/python3.6/dist-packages/keras/backend/tensorflow_backend.py:223: The name tf.variables_initializer is deprecated. Please use tf.compat.v1.variables_initializer instead.\n",
            "\n",
            "40000/40000 [==============================] - 15s 386us/step - loss: 0.9026 - acc: 0.6625 - val_loss: 0.5474 - val_acc: 0.7878\n",
            "Epoch 2/25\n",
            "40000/40000 [==============================] - 8s 191us/step - loss: 0.5808 - acc: 0.7850 - val_loss: 0.4708 - val_acc: 0.8210\n",
            "Epoch 3/25\n",
            "40000/40000 [==============================] - 7s 186us/step - loss: 0.5142 - acc: 0.8114 - val_loss: 0.4273 - val_acc: 0.8398\n",
            "Epoch 4/25\n",
            "40000/40000 [==============================] - 8s 188us/step - loss: 0.4712 - acc: 0.8246 - val_loss: 0.4096 - val_acc: 0.8486\n",
            "Epoch 5/25\n",
            "40000/40000 [==============================] - 8s 188us/step - loss: 0.4428 - acc: 0.8370 - val_loss: 0.3897 - val_acc: 0.8539\n",
            "Epoch 6/25\n",
            "40000/40000 [==============================] - 8s 188us/step - loss: 0.4176 - acc: 0.8455 - val_loss: 0.3806 - val_acc: 0.8563\n",
            "Epoch 7/25\n",
            "40000/40000 [==============================] - 8s 188us/step - loss: 0.3955 - acc: 0.8538 - val_loss: 0.3601 - val_acc: 0.8646\n",
            "Epoch 8/25\n",
            "40000/40000 [==============================] - 7s 186us/step - loss: 0.3814 - acc: 0.8570 - val_loss: 0.3470 - val_acc: 0.8737\n",
            "Epoch 9/25\n",
            "40000/40000 [==============================] - 7s 187us/step - loss: 0.3660 - acc: 0.8624 - val_loss: 0.3463 - val_acc: 0.8706\n",
            "Epoch 10/25\n",
            "40000/40000 [==============================] - 8s 189us/step - loss: 0.3538 - acc: 0.8679 - val_loss: 0.3452 - val_acc: 0.8743\n",
            "Epoch 11/25\n",
            "40000/40000 [==============================] - 7s 187us/step - loss: 0.3405 - acc: 0.8715 - val_loss: 0.3384 - val_acc: 0.8736\n",
            "Epoch 12/25\n",
            "40000/40000 [==============================] - 7s 186us/step - loss: 0.3300 - acc: 0.8755 - val_loss: 0.3352 - val_acc: 0.8768\n",
            "Epoch 13/25\n",
            "40000/40000 [==============================] - 7s 187us/step - loss: 0.3224 - acc: 0.8787 - val_loss: 0.3333 - val_acc: 0.8771\n",
            "Epoch 14/25\n",
            "40000/40000 [==============================] - 7s 187us/step - loss: 0.3086 - acc: 0.8843 - val_loss: 0.3394 - val_acc: 0.8754\n",
            "Epoch 15/25\n",
            "40000/40000 [==============================] - 8s 191us/step - loss: 0.3001 - acc: 0.8861 - val_loss: 0.3281 - val_acc: 0.8790\n",
            "Epoch 16/25\n",
            "40000/40000 [==============================] - 8s 188us/step - loss: 0.2934 - acc: 0.8882 - val_loss: 0.3343 - val_acc: 0.8808\n",
            "Epoch 17/25\n",
            "40000/40000 [==============================] - 7s 187us/step - loss: 0.2836 - acc: 0.8926 - val_loss: 0.3346 - val_acc: 0.8780\n",
            "Epoch 18/25\n",
            "40000/40000 [==============================] - 8s 188us/step - loss: 0.2758 - acc: 0.8959 - val_loss: 0.3420 - val_acc: 0.8783\n",
            "Epoch 19/25\n",
            "40000/40000 [==============================] - 7s 186us/step - loss: 0.2714 - acc: 0.8982 - val_loss: 0.3345 - val_acc: 0.8803\n",
            "Epoch 20/25\n",
            "40000/40000 [==============================] - 7s 187us/step - loss: 0.2647 - acc: 0.8999 - val_loss: 0.3271 - val_acc: 0.8810\n",
            "Epoch 21/25\n",
            "40000/40000 [==============================] - 8s 188us/step - loss: 0.2556 - acc: 0.9025 - val_loss: 0.3265 - val_acc: 0.8835\n",
            "Epoch 22/25\n",
            "40000/40000 [==============================] - 7s 186us/step - loss: 0.2526 - acc: 0.9021 - val_loss: 0.3309 - val_acc: 0.8840\n",
            "Epoch 23/25\n",
            "40000/40000 [==============================] - 7s 187us/step - loss: 0.2470 - acc: 0.9064 - val_loss: 0.3330 - val_acc: 0.8813\n",
            "Epoch 24/25\n",
            "40000/40000 [==============================] - 7s 187us/step - loss: 0.2369 - acc: 0.9087 - val_loss: 0.3293 - val_acc: 0.8797\n",
            "Epoch 25/25\n",
            "40000/40000 [==============================] - 7s 187us/step - loss: 0.2309 - acc: 0.9100 - val_loss: 0.3353 - val_acc: 0.8826\n"
          ],
          "name": "stdout"
        }
      ]
    },
    {
      "cell_type": "code",
      "metadata": {
        "id": "b5M-bCbbO-ux",
        "colab_type": "code",
        "outputId": "bbe18207-fb2e-404d-e2a8-ee6a0469c1a5",
        "colab": {
          "base_uri": "https://localhost:8080/",
          "height": 34
        }
      },
      "source": [
        "from sklearn.metrics import confusion_matrix\n",
        "\n",
        "X_test = np.load('/content/test_images/test_images.npy').squeeze()\n",
        "X_test = X_test.astype(\"float32\") / 255.0\n",
        "X_test = X_test.reshape(X_test.shape[0], 28, 28, 1)\n",
        "print(X_test.shape)\n",
        "y_pred = model.predict_classes(X_test)\n",
        "\n",
        "df_test = pd.read_csv('/content/{/content}/competitions/mais202-fall2019/sample_submission.csv')\n",
        "df_test['label'] = y_pred\n",
        "df_test.to_csv('submission.csv', index=False)"
      ],
      "execution_count": 0,
      "outputs": [
        {
          "output_type": "stream",
          "text": [
            "(20000, 28, 28, 1)\n"
          ],
          "name": "stdout"
        }
      ]
    },
    {
      "cell_type": "code",
      "metadata": {
        "id": "yaie6iypix9B",
        "colab_type": "code",
        "outputId": "6e3dcf9c-9115-4d3a-a597-90a8a2457c5a",
        "colab": {
          "base_uri": "https://localhost:8080/",
          "height": 573
        }
      },
      "source": [
        "import matplotlib.pyplot as plt\n",
        "\n",
        "# Plot training & validation accuracy values\n",
        "plt.plot(history.history['acc'])\n",
        "plt.plot(history.history['val_acc'])\n",
        "plt.title('Model accuracy')\n",
        "plt.ylabel('Accuracy')\n",
        "plt.xlabel('Epoch')\n",
        "plt.legend(['Train', 'Test'], loc='upper left')\n",
        "plt.show()\n",
        "\n",
        "# Plot training & validation loss values\n",
        "plt.plot(history.history['loss'])\n",
        "plt.plot(history.history['val_loss'])\n",
        "plt.title('Model loss')\n",
        "plt.ylabel('Loss')\n",
        "plt.xlabel('Epoch')\n",
        "plt.legend(['Train', 'Test'], loc='upper left')\n",
        "plt.show()"
      ],
      "execution_count": 0,
      "outputs": [
        {
          "output_type": "display_data",
          "data": {
            "image/png": "[encoded data removed]",
            "text/plain": [
              "<Figure size 432x288 with 1 Axes>"
            ]
          },
          "metadata": {
            "tags": []
          }
        },
        {
          "output_type": "display_data",
          "data": {
            "image/png": "[encoded data removed]",
            "text/plain": [
              "<Figure size 432x288 with 1 Axes>"
            ]
          },
          "metadata": {
            "tags": []
          }
        }
      ]
    }
  ]
}