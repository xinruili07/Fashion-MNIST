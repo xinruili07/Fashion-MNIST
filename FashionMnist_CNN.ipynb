{
  "nbformat": 4,
  "nbformat_minor": 0,
  "metadata": {
    "colab": {
      "name": "Copy of Copy of Copy of CNN Wavelets",
      "provenance": [],
      "collapsed_sections": [],
      "include_colab_link": true
    },
    "kernelspec": {
      "name": "python3",
      "display_name": "Python 3"
    },
    "accelerator": "GPU"
  },
  "cells": [
    {
      "cell_type": "markdown",
      "metadata": {
        "id": "view-in-github",
        "colab_type": "text"
      },
      "source": [
        "<a href=\"https://colab.research.google.com/github/xinruili07/Fashion-MNIST/blob/master/FashionMnist_CNN.ipynb\" target=\"_parent\"><img src=\"https://colab.research.google.com/assets/colab-badge.svg\" alt=\"Open In Colab\"/></a>"
      ]
    },
    {
      "cell_type": "code",
      "metadata": {
        "id": "zBeSqXMFYdoy",
        "colab_type": "code",
        "outputId": "5c5817b9-3f63-4d6b-b16c-e1e92993f615",
        "colab": {
          "base_uri": "https://localhost:8080/",
          "height": 459
        }
      },
      "source": [
        "import numpy as np\n",
        "import json\n",
        "\n",
        "!pip install -q kaggle\n",
        "!mkdir /content/.kaggle\n",
        "!mkdir ~/.kaggle\n",
        "token = {\"username\":\"xinruili\",\"key\":\"5971264a8ca5983c4f4864ea88dfa8b5\"}\n",
        "with open(\"/content/.kaggle/kaggle.json\", \"w\") as file:\n",
        "    json.dump(token, file)\n",
        "!chmod 600 /content/.kaggle/kaggle.json\n",
        "!cp /content/.kaggle/kaggle.json ~/.kaggle/kaggle.json\n",
        "!kaggle config set -n path -v{/content}\n",
        "!kaggle competitions download -c mais202-fall2019\n",
        "!apt install unzip\n",
        "\n",
        "!unzip /content/{/content}/competitions/mais202-fall2019/test_images.npy.zip -d test_images\n",
        "!unzip /content/{/content}/competitions/mais202-fall2019/train_images.npy.zip -d train_images"
      ],
      "execution_count": 0,
      "outputs": [
        {
          "output_type": "stream",
          "text": [
            "- path is now set to: {/content}\n",
            "Warning: Looks like you're using an outdated API Version, please consider updating (server 1.5.6 / client 1.5.4)\n",
            "Downloading label_int_to_str_mapping.csv to {/content}/competitions/mais202-fall2019\n",
            "  0% 0.00/127 [00:00<?, ?B/s]\n",
            "100% 127/127 [00:00<00:00, 291kB/s]\n",
            "Downloading test_images.npy.zip to {/content}/competitions/mais202-fall2019\n",
            " 43% 9.00M/20.7M [00:00<00:00, 35.8MB/s]\n",
            "100% 20.7M/20.7M [00:00<00:00, 59.5MB/s]\n",
            "Downloading train_labels.csv to {/content}/competitions/mais202-fall2019\n",
            "  0% 0.00/429k [00:00<?, ?B/s]\n",
            "100% 429k/429k [00:00<00:00, 156MB/s]\n",
            "Downloading sample_submission.csv to {/content}/competitions/mais202-fall2019\n",
            "  0% 0.00/165k [00:00<?, ?B/s]\n",
            "100% 165k/165k [00:00<00:00, 160MB/s]\n",
            "Downloading train_images.npy.zip to {/content}/competitions/mais202-fall2019\n",
            " 95% 49.0M/51.7M [00:03<00:00, 8.76MB/s]\n",
            "100% 51.7M/51.7M [00:03<00:00, 17.7MB/s]\n",
            "Reading package lists... Done\n",
            "Building dependency tree       \n",
            "Reading state information... Done\n",
            "unzip is already the newest version (6.0-21ubuntu1).\n",
            "0 upgraded, 0 newly installed, 0 to remove and 28 not upgraded.\n",
            "Archive:  /content/{/content}/competitions/mais202-fall2019/test_images.npy.zip\n",
            "  inflating: test_images/test_images.npy  \n",
            "Archive:  /content/{/content}/competitions/mais202-fall2019/train_images.npy.zip\n",
            "  inflating: train_images/train_images.npy  \n"
          ],
          "name": "stdout"
        }
      ]
    },
    {
      "cell_type": "code",
      "metadata": {
        "id": "pQOeZAcbO6FW",
        "colab_type": "code",
        "outputId": "f8fe487a-dea6-4113-8fde-f1caa4f60194",
        "colab": {
          "base_uri": "https://localhost:8080/",
          "height": 80
        }
      },
      "source": [
        "#vanilla CNN\n",
        "from keras.datasets import fashion_mnist\n",
        "from keras.preprocessing.image import ImageDataGenerator\n",
        "import pandas as pd\n",
        "from keras import backend as K"
      ],
      "execution_count": 0,
      "outputs": [
        {
          "output_type": "stream",
          "text": [
            "Using TensorFlow backend.\n"
          ],
          "name": "stderr"
        },
        {
          "output_type": "display_data",
          "data": {
            "text/html": [
              "<p style=\"color: red;\">\n",
              "The default version of TensorFlow in Colab will soon switch to TensorFlow 2.x.<br>\n",
              "We recommend you <a href=\"https://www.tensorflow.org/guide/migrate\" target=\"_blank\">upgrade</a> now \n",
              "or ensure your notebook will continue to use TensorFlow 1.x via the <code>%tensorflow_version 1.x</code> magic:\n",
              "<a href=\"https://colab.research.google.com/notebooks/tensorflow_version.ipynb\" target=\"_blank\">more info</a>.</p>\n"
            ],
            "text/plain": [
              "<IPython.core.display.HTML object>"
            ]
          },
          "metadata": {
            "tags": []
          }
        }
      ]
    },
    {
      "cell_type": "code",
      "metadata": {
        "id": "FkRVWzQIQh-4",
        "colab_type": "code",
        "outputId": "9b715d8f-70b8-45a4-afc5-01cc3ce88a4b",
        "colab": {
          "base_uri": "https://localhost:8080/",
          "height": 34
        }
      },
      "source": [
        "from sklearn.model_selection import train_test_split\n",
        "X_train = np.load('/content/train_images/train_images.npy')\n",
        "\n",
        "X_train = X_train.astype(\"float32\") / 255.0\n",
        "X_train = X_train.reshape((X_train.shape[0], 28, 28, 1))\n",
        "print(X_train.shape)"
      ],
      "execution_count": 0,
      "outputs": [
        {
          "output_type": "stream",
          "text": [
            "(50000, 28, 28, 1)\n"
          ],
          "name": "stdout"
        }
      ]
    },
    {
      "cell_type": "code",
      "metadata": {
        "id": "54A5MuPmR1Ob",
        "colab_type": "code",
        "outputId": "55b138ad-0a20-4f89-c9d8-7a400d541891",
        "colab": {
          "base_uri": "https://localhost:8080/",
          "height": 34
        }
      },
      "source": [
        "from keras.utils import to_categorical\n",
        "\n",
        "data = pd.read_csv(\"/content/{/content}/competitions/mais202-fall2019/train_labels.csv\", header=0)\n",
        "y_train = list(data.label)\n",
        "y_train = to_categorical(y_train)\n",
        "print(len(y_train))"
      ],
      "execution_count": 0,
      "outputs": [
        {
          "output_type": "stream",
          "text": [
            "50000\n"
          ],
          "name": "stdout"
        }
      ]
    },
    {
      "cell_type": "code",
      "metadata": {
        "id": "GuZEeAlwYEDf",
        "colab_type": "code",
        "colab": {}
      },
      "source": [
        "from sklearn.utils import shuffle\n",
        "\n",
        "X_train, y_train = shuffle(X_train, y_train)\n",
        "X_train, X_valid, y_train, y_valid = train_test_split(X_train, y_train, test_size=0.20)"
      ],
      "execution_count": 0,
      "outputs": []
    },
    {
      "cell_type": "code",
      "metadata": {
        "id": "S0T3lvWuUSUz",
        "colab_type": "code",
        "colab": {}
      },
      "source": [
        "from keras.models import Sequential\n",
        "from keras.layers import Dense, Dropout, Activation, Flatten\n",
        "from keras.layers import Conv2D, MaxPooling2D\n",
        "from tensorflow.keras.callbacks import TensorBoard\n",
        "import time\n",
        "\n",
        "NAME = \"kaggle-competition-{}\".format(int(time.time()))\n",
        "\n",
        "# tensorboard --logdir='DIRNAME' to view\n",
        "tensorboard = TensorBoard(log_dir='logs\\{}'.format(NAME))"
      ],
      "execution_count": 0,
      "outputs": []
    },
    {
      "cell_type": "code",
      "metadata": {
        "id": "ZCwQVfNZZcC_",
        "colab_type": "code",
        "outputId": "00e9a9b5-2b99-471e-8cd4-c5cac3802bcf",
        "colab": {
          "base_uri": "https://localhost:8080/",
          "height": 51
        }
      },
      "source": [
        "from sklearn.model_selection import train_test_split\n",
        "print(len(X_train))\n",
        "print(len(X_valid))"
      ],
      "execution_count": 0,
      "outputs": [
        {
          "output_type": "stream",
          "text": [
            "32000\n",
            "8000\n"
          ],
          "name": "stdout"
        }
      ]
    },
    {
      "cell_type": "code",
      "metadata": {
        "id": "CjlLOWb-SAJC",
        "colab_type": "code",
        "outputId": "93bb6e07-54e3-4f26-b8fc-ab6bc0fd71a5",
        "colab": {
          "base_uri": "https://localhost:8080/",
          "height": 561
        }
      },
      "source": [
        "model = Sequential()\n",
        "\n",
        "model.add(Conv2D(32, (5, 5), padding=\"same\", input_shape=[28, 28, 1], kernel_initializer='he_normal'))\n",
        "model.add(Activation('relu'))\n",
        "model.add(MaxPooling2D((2,2)))\n",
        "model.add(Dropout(0.2))\n",
        "\n",
        "model.add(Conv2D(64, (5, 5), padding=\"same\"))\n",
        "model.add(MaxPooling2D((2,2)))\n",
        "model.add(Activation('relu'))\n",
        "model.add(Dropout(0.2))\n",
        "\n",
        "model.add(Flatten())\n",
        "model.add(Dense(256, activation='relu'))\n",
        "model.add(Dropout(0.5))\n",
        "model.add(Dense(10, activation='softmax'))\n",
        "\n",
        "model.summary()"
      ],
      "execution_count": 0,
      "outputs": [
        {
          "output_type": "stream",
          "text": [
            "Model: \"sequential_23\"\n",
            "_________________________________________________________________\n",
            "Layer (type)                 Output Shape              Param #   \n",
            "=================================================================\n",
            "conv2d_39 (Conv2D)           (None, 28, 28, 32)        832       \n",
            "_________________________________________________________________\n",
            "activation_19 (Activation)   (None, 28, 28, 32)        0         \n",
            "_________________________________________________________________\n",
            "max_pooling2d_30 (MaxPooling (None, 14, 14, 32)        0         \n",
            "_________________________________________________________________\n",
            "dropout_33 (Dropout)         (None, 14, 14, 32)        0         \n",
            "_________________________________________________________________\n",
            "conv2d_40 (Conv2D)           (None, 14, 14, 64)        51264     \n",
            "_________________________________________________________________\n",
            "max_pooling2d_31 (MaxPooling (None, 7, 7, 64)          0         \n",
            "_________________________________________________________________\n",
            "activation_20 (Activation)   (None, 7, 7, 64)          0         \n",
            "_________________________________________________________________\n",
            "dropout_34 (Dropout)         (None, 7, 7, 64)          0         \n",
            "_________________________________________________________________\n",
            "flatten_17 (Flatten)         (None, 3136)              0         \n",
            "_________________________________________________________________\n",
            "dense_30 (Dense)             (None, 256)               803072    \n",
            "_________________________________________________________________\n",
            "dropout_35 (Dropout)         (None, 256)               0         \n",
            "_________________________________________________________________\n",
            "dense_31 (Dense)             (None, 10)                2570      \n",
            "=================================================================\n",
            "Total params: 857,738\n",
            "Trainable params: 857,738\n",
            "Non-trainable params: 0\n",
            "_________________________________________________________________\n"
          ],
          "name": "stdout"
        }
      ]
    },
    {
      "cell_type": "code",
      "metadata": {
        "id": "_DjGg31vUQU5",
        "colab_type": "code",
        "colab": {}
      },
      "source": [
        "import keras\n",
        "model.compile(keras.optimizers.Adam(5e-4), loss='categorical_crossentropy', metrics=['accuracy'])"
      ],
      "execution_count": 0,
      "outputs": []
    },
    {
      "cell_type": "code",
      "metadata": {
        "id": "a8bZmT_cUhrV",
        "colab_type": "code",
        "outputId": "65740e40-ff1a-4696-f782-2c98eaf4e0bf",
        "colab": {
          "base_uri": "https://localhost:8080/",
          "height": 904
        }
      },
      "source": [
        "history = model.fit(X_train, y_train, epochs = 25, shuffle=True, validation_data=(X_valid, y_valid), verbose=1, batch_size=64)"
      ],
      "execution_count": 0,
      "outputs": [
        {
          "output_type": "stream",
          "text": [
            "Train on 40000 samples, validate on 10000 samples\n",
            "Epoch 1/25\n",
            "40000/40000 [==============================] - 10s 252us/step - loss: 0.6462 - acc: 0.7597 - val_loss: 0.4974 - val_acc: 0.8073\n",
            "Epoch 2/25\n",
            "40000/40000 [==============================] - 10s 247us/step - loss: 0.5124 - acc: 0.8121 - val_loss: 0.4236 - val_acc: 0.8419\n",
            "Epoch 3/25\n",
            "40000/40000 [==============================] - 10s 245us/step - loss: 0.4584 - acc: 0.8323 - val_loss: 0.4145 - val_acc: 0.8397\n",
            "Epoch 4/25\n",
            "40000/40000 [==============================] - 10s 251us/step - loss: 0.4265 - acc: 0.8424 - val_loss: 0.3817 - val_acc: 0.8522\n",
            "Epoch 5/25\n",
            "40000/40000 [==============================] - 10s 249us/step - loss: 0.3985 - acc: 0.8530 - val_loss: 0.3712 - val_acc: 0.8587\n",
            "Epoch 6/25\n",
            "40000/40000 [==============================] - 10s 252us/step - loss: 0.3800 - acc: 0.8600 - val_loss: 0.3537 - val_acc: 0.8653\n",
            "Epoch 7/25\n",
            "40000/40000 [==============================] - 10s 245us/step - loss: 0.3608 - acc: 0.8664 - val_loss: 0.3456 - val_acc: 0.8680\n",
            "Epoch 8/25\n",
            "40000/40000 [==============================] - 10s 252us/step - loss: 0.3469 - acc: 0.8717 - val_loss: 0.3512 - val_acc: 0.8663\n",
            "Epoch 9/25\n",
            "40000/40000 [==============================] - 10s 249us/step - loss: 0.3354 - acc: 0.8744 - val_loss: 0.3413 - val_acc: 0.8700\n",
            "Epoch 10/25\n",
            "40000/40000 [==============================] - 10s 252us/step - loss: 0.3217 - acc: 0.8790 - val_loss: 0.3402 - val_acc: 0.8712\n",
            "Epoch 11/25\n",
            "40000/40000 [==============================] - 10s 255us/step - loss: 0.3111 - acc: 0.8846 - val_loss: 0.3349 - val_acc: 0.8754\n",
            "Epoch 12/25\n",
            "40000/40000 [==============================] - 10s 247us/step - loss: 0.3017 - acc: 0.8873 - val_loss: 0.3353 - val_acc: 0.8746\n",
            "Epoch 13/25\n",
            "40000/40000 [==============================] - 10s 251us/step - loss: 0.2908 - acc: 0.8894 - val_loss: 0.3279 - val_acc: 0.8784\n",
            "Epoch 14/25\n",
            "40000/40000 [==============================] - 10s 257us/step - loss: 0.2795 - acc: 0.8953 - val_loss: 0.3325 - val_acc: 0.8746\n",
            "Epoch 15/25\n",
            "40000/40000 [==============================] - 10s 249us/step - loss: 0.2757 - acc: 0.8941 - val_loss: 0.3251 - val_acc: 0.8797\n",
            "Epoch 16/25\n",
            "40000/40000 [==============================] - 10s 252us/step - loss: 0.2659 - acc: 0.9000 - val_loss: 0.3259 - val_acc: 0.8775\n",
            "Epoch 17/25\n",
            "40000/40000 [==============================] - 10s 251us/step - loss: 0.2581 - acc: 0.9039 - val_loss: 0.3272 - val_acc: 0.8816\n",
            "Epoch 18/25\n",
            "40000/40000 [==============================] - 10s 245us/step - loss: 0.2477 - acc: 0.9056 - val_loss: 0.3326 - val_acc: 0.8793\n",
            "Epoch 19/25\n",
            "40000/40000 [==============================] - 10s 247us/step - loss: 0.2426 - acc: 0.9088 - val_loss: 0.3366 - val_acc: 0.8824\n",
            "Epoch 20/25\n",
            "40000/40000 [==============================] - 10s 249us/step - loss: 0.2349 - acc: 0.9111 - val_loss: 0.3334 - val_acc: 0.8818\n",
            "Epoch 21/25\n",
            "40000/40000 [==============================] - 10s 247us/step - loss: 0.2290 - acc: 0.9130 - val_loss: 0.3286 - val_acc: 0.8858\n",
            "Epoch 22/25\n",
            "40000/40000 [==============================] - 10s 246us/step - loss: 0.2251 - acc: 0.9141 - val_loss: 0.3340 - val_acc: 0.8835\n",
            "Epoch 23/25\n",
            "40000/40000 [==============================] - 10s 247us/step - loss: 0.2175 - acc: 0.9166 - val_loss: 0.3339 - val_acc: 0.8837\n",
            "Epoch 24/25\n",
            "40000/40000 [==============================] - 10s 246us/step - loss: 0.2141 - acc: 0.9183 - val_loss: 0.3342 - val_acc: 0.8809\n",
            "Epoch 25/25\n",
            "40000/40000 [==============================] - 10s 246us/step - loss: 0.2078 - acc: 0.9198 - val_loss: 0.3395 - val_acc: 0.8831\n"
          ],
          "name": "stdout"
        }
      ]
    },
    {
      "cell_type": "code",
      "metadata": {
        "id": "b5M-bCbbO-ux",
        "colab_type": "code",
        "outputId": "3c60bd11-f4ce-45b5-cdb1-2727ad45def5",
        "colab": {
          "base_uri": "https://localhost:8080/",
          "height": 204
        }
      },
      "source": [
        "from sklearn.metrics import confusion_matrix\n",
        "\n",
        "X_test = np.load('/content/test_images/test_images.npy').squeeze()\n",
        "X_test = X_test.astype(\"float32\") / 255.0\n",
        "X_test = X_test.reshape(X_test.shape[0], 28, 28, 1)\n",
        "print(X_test.shape)\n",
        "y_pred = model.predict_classes(X_test)\n",
        "\n",
        "df_test = pd.read_csv('/content/{/content}/competitions/mais202-fall2019/sample_submission.csv')\n",
        "df_test['label'] = y_pred\n",
        "df_test.to_csv('submission.csv', index=False)"
      ],
      "execution_count": 0,
      "outputs": [
        {
          "output_type": "stream",
          "text": [
            "(20000, 28, 28, 1)\n",
            "[[1871    0   17   52    3    0  259    0    3    0]\n",
            " [   1 1955    1   27    1    0    5    0    1    0]\n",
            " [  28    2 1683    2   85    1  123    0    8    0]\n",
            " [  79   14   16 1863   97    2   83    0    4    0]\n",
            " [   4    4  278   32 1802    0  247    0    1    0]\n",
            " [   3    0    2    0    1 1890    1   23    2    5]\n",
            " [  96    1  104   17   44    0 1120    0   15    0]\n",
            " [   0    0    0    0    0   65    0 1930    3   39]\n",
            " [   8    0   10    6    4    3   15    4 1931    1]\n",
            " [   0    1    0    0    0   13    0   58    0 1931]]\n"
          ],
          "name": "stdout"
        }
      ]
    }
  ]
}